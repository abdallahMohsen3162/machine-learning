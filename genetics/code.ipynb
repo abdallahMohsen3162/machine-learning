{
 "cells": [
  {
   "cell_type": "code",
   "execution_count": 1,
   "id": "21c26fa7-467f-4a9a-bf2a-7dd73f68724d",
   "metadata": {},
   "outputs": [],
   "source": [
    "import numpy as np\n",
    "from sklearn.ensemble import RandomForestClassifier\n",
    "from sklearn.svm import SVC\n",
    "from sklearn.metrics import accuracy_score\n",
    "from tensorflow.keras.applications import VGG16\n",
    "from tensorflow.keras.datasets import mnist\n",
    "from tensorflow.keras.preprocessing.image import img_to_array, array_to_img\n",
    "from sklearn.model_selection import train_test_split\n",
    "import cv2\n",
    "from tensorflow.keras.preprocessing.image import ImageDataGenerator"
   ]
  },
  {
   "cell_type": "code",
   "execution_count": 2,
   "id": "999f13e2-9dd9-464c-af68-4d7ec668b0c2",
   "metadata": {},
   "outputs": [],
   "source": [
    "# Genetic Algorithm for Feature Selection\n",
    "class GeneticAlgorithm:\n",
    "    def __init__(self, classifier, features, labels, population_size=50, generations=10, crossover_prob=0.8, mutation_prob=0.1):\n",
    "        self.classifier = classifier\n",
    "        self.features = features\n",
    "        self.labels = labels\n",
    "        self.population_size = population_size\n",
    "        self.generations = generations\n",
    "        self.crossover_prob = crossover_prob\n",
    "        self.mutation_prob = mutation_prob\n",
    "\n",
    "    def initialize_population(self):\n",
    "        return np.random.choice([0, 1], size=(self.population_size, self.features.shape[1]))\n",
    "\n",
    "    def evaluate_population(self, population):\n",
    "        accuracies = []\n",
    "        for chromosome in population:\n",
    "            selected_features = np.where(chromosome == 1)[0]\n",
    "            if len(selected_features) == 0:\n",
    "                accuracies.append(0.0)\n",
    "            else:\n",
    "                self.classifier.fit(self.features[:, selected_features], self.labels)\n",
    "                predictions = self.classifier.predict(self.features[:, selected_features])\n",
    "                accuracies.append(accuracy_score(self.labels, predictions))\n",
    "        return accuracies\n",
    "\n",
    "    def select_parents(self, population, accuracies):\n",
    "        num_parents = int(self.population_size * 0.2)\n",
    "        parents_indices = []\n",
    "        for _ in range(num_parents):\n",
    "            tournament_indices = np.random.choice(self.population_size, size=5, replace=False)\n",
    "            selected_index = tournament_indices[np.argmax([accuracies[i] for i in tournament_indices])]\n",
    "            parents_indices.append(selected_index)\n",
    "        return population[parents_indices]\n",
    "\n",
    "    def crossover(self, parents):\n",
    "        children = []\n",
    "        for i in range(0, len(parents), 2):\n",
    "            parent1, parent2 = parents[i], parents[i + 1]\n",
    "            crossover_point = np.random.randint(1, len(parent1) - 1)\n",
    "            child1 = np.concatenate((parent1[:crossover_point], parent2[crossover_point:]))\n",
    "            child2 = np.concatenate((parent2[:crossover_point], parent1[crossover_point:]))\n",
    "            children.extend([child1, child2])\n",
    "        return np.array(children)\n",
    "\n",
    "    def mutate(self, population):\n",
    "        for i in range(len(population)):\n",
    "            for j in range(len(population[i])):\n",
    "                if np.random.rand() < self.mutation_prob:\n",
    "                    population[i, j] = 1 - population[i, j]\n",
    "        return population\n",
    "\n",
    "    def run(self):\n",
    "        population = self.initialize_population()\n",
    "\n",
    "        for generation in range(self.generations):\n",
    "            accuracies = self.evaluate_population(population)\n",
    "            parents = self.select_parents(population, accuracies)\n",
    "            offspring = self.crossover(parents)\n",
    "            mutated_offspring = self.mutate(offspring)\n",
    "            population = np.vstack((population, mutated_offspring))\n",
    "            population = population[np.argsort(accuracies)[-self.population_size:]]\n",
    "\n",
    "        best_chromosome = population[np.argmax(accuracies)]\n",
    "        selected_features = np.where(best_chromosome == 1)[0]\n",
    "        return selected_features\n",
    "\n"
   ]
  },
  {
   "cell_type": "code",
   "execution_count": 3,
   "id": "ad804b39-fd38-49b2-8de7-72c77f27fe66",
   "metadata": {},
   "outputs": [
    {
     "name": "stdout",
     "output_type": "stream",
     "text": [
      "Found 28709 images belonging to 7 classes.\n",
      "Found 7178 images belonging to 7 classes.\n"
     ]
    }
   ],
   "source": [
    "\n",
    "train_dir = 'train'\n",
    "test_dir = 'test'\n",
    "target_shape=(64,64,3)\n",
    "datagen = ImageDataGenerator(rescale=1./255)  \n",
    "\n",
    "train_generator = datagen.flow_from_directory(\n",
    "    train_dir,\n",
    "    target_size=(64,64),\n",
    "    batch_size=28709 ,\n",
    "    class_mode='categorical',\n",
    "    \n",
    ")\n",
    "\n",
    "test_generator = datagen.flow_from_directory(\n",
    "    test_dir,\n",
    "    target_size=(64,64),\n",
    "    batch_size=7178,\n",
    "    class_mode='categorical',\n",
    "    \n",
    ")\n",
    "\n"
   ]
  },
  {
   "cell_type": "code",
   "execution_count": 4,
   "id": "38840295-f2e0-4248-ab09-8c2100940771",
   "metadata": {},
   "outputs": [],
   "source": [
    "x_train,y_train=train_generator.next()\n",
    "x_test,y_test=test_generator.next()\n",
    "y_train = np.argmax(y_train, axis=1)\n",
    "y_test = np.argmax(y_test, axis=1)\n"
   ]
  },
  {
   "cell_type": "code",
   "execution_count": 5,
   "id": "996e37e8-1466-487a-b677-af94b6fb45d5",
   "metadata": {},
   "outputs": [
    {
     "name": "stdout",
     "output_type": "stream",
     "text": [
      "(28709, 64, 64, 3)\n",
      "(7178, 64, 64, 3)\n",
      "(28709,)\n",
      "(7178,)\n"
     ]
    }
   ],
   "source": [
    "print(x_train.shape)\n",
    "print(x_test.shape)\n",
    "\n",
    "print(y_train.shape)\n",
    "print(y_test.shape)"
   ]
  },
  {
   "cell_type": "code",
   "execution_count": 6,
   "id": "a38a25ea-eb63-47d9-8b1f-a723ad41c345",
   "metadata": {},
   "outputs": [
    {
     "name": "stdout",
     "output_type": "stream",
     "text": [
      "898/898 [==============================] - 225s 249ms/step\n",
      "225/225 [==============================] - 57s 254ms/step\n"
     ]
    }
   ],
   "source": [
    "target_shape=(64,64,3)\n",
    "# Use VGG16 to get features\n",
    "base_model = VGG16(weights='imagenet', include_top=False, input_shape=target_shape)\n",
    "x_train_features = base_model.predict(x_train)\n",
    "x_test_features = base_model.predict(x_test)\n",
    "\n",
    "x_train_features_flat = x_train_features.reshape(x_train_features.shape[0], -1)\n",
    "x_test_features_flat = x_test_features.reshape(x_test_features.shape[0], -1)\n"
   ]
  },
  {
   "cell_type": "code",
   "execution_count": 7,
   "id": "7f087039-8bf4-4d18-b9bf-81bef8588aec",
   "metadata": {},
   "outputs": [],
   "source": [
    "from sklearn.preprocessing import StandardScaler\n",
    "scaler = StandardScaler()\n",
    "x_train_features_flat = scaler.fit_transform(x_train_features_flat)\n",
    "x_test_features_flat = scaler.transform(x_test_features_flat)\n"
   ]
  },
  {
   "cell_type": "code",
   "execution_count": 8,
   "id": "90a835a7-2945-4acc-ad54-75d70575302f",
   "metadata": {
    "scrolled": true
   },
   "outputs": [],
   "source": [
    "from sklearn.tree import DecisionTreeClassifier\n",
    "\n",
    "# Genetic Algorithm for Feature Selection\n",
    "classifier_dt = DecisionTreeClassifier()\n",
    "\n",
    "genetic_algorithm = GeneticAlgorithm(classifier_dt, x_train_features_flat, y_train, population_size=10, generations=5)\n",
    "selected_features = genetic_algorithm.run()"
   ]
  },
  {
   "cell_type": "code",
   "execution_count": 9,
   "id": "145ce225-d921-4cf6-97c1-fcfe164bf7fc",
   "metadata": {},
   "outputs": [
    {
     "name": "stdout",
     "output_type": "stream",
     "text": [
      "[   4    8    9 ... 2044 2046 2047]\n",
      "(1064,)\n"
     ]
    }
   ],
   "source": [
    "print(selected_features)\n",
    "print(selected_features.shape)"
   ]
  },
  {
   "cell_type": "code",
   "execution_count": 10,
   "id": "48d5f110-93cd-4e69-87d4-061b2284f9d6",
   "metadata": {},
   "outputs": [
    {
     "name": "stdout",
     "output_type": "stream",
     "text": [
      "Test accuracy: 32.46%\n"
     ]
    }
   ],
   "source": [
    "\n",
    "classifier_dt.fit(x_train_features_flat[:, selected_features], y_train)\n",
    "x_test_features_selected = x_test_features_flat[:, selected_features]\n",
    "y_test_pred = classifier_dt.predict(x_test_features_selected)\n",
    "test_accuracy = accuracy_score(y_test, y_test_pred)\n",
    "print(f'Test accuracy: {test_accuracy * 100:.2f}%')"
   ]
  },
  {
   "cell_type": "code",
   "execution_count": 13,
   "id": "1181aa5c-9283-4ac6-a52b-dbedd2d497f3",
   "metadata": {},
   "outputs": [
    {
     "data": {
      "text/plain": [
       "array([5, 6, 5, ..., 2, 4, 3], dtype=int64)"
      ]
     },
     "execution_count": 13,
     "metadata": {},
     "output_type": "execute_result"
    }
   ],
   "source": [
    "from sklearn.metrics import classification_report\n",
    "\n",
    "y_train_pred = classifier_dt.predict(x_train_features_flat[:, selected_features])\n",
    "y_test_pred\n"
   ]
  },
  {
   "cell_type": "code",
   "execution_count": 15,
   "id": "8c8095ec-09f5-4a26-82ca-d6e3c9b4f872",
   "metadata": {},
   "outputs": [
    {
     "name": "stdout",
     "output_type": "stream",
     "text": [
      "Classification Report on Test Set:\n",
      "              precision    recall  f1-score   support\n",
      "\n",
      "           0       0.24      0.25      0.24       958\n",
      "           1       0.28      0.34      0.31       111\n",
      "           2       0.29      0.28      0.29      1024\n",
      "           3       0.40      0.38      0.39      1774\n",
      "           4       0.28      0.29      0.28      1233\n",
      "           5       0.27      0.26      0.27      1247\n",
      "           6       0.46      0.49      0.48       831\n",
      "\n",
      "    accuracy                           0.32      7178\n",
      "   macro avg       0.32      0.33      0.32      7178\n",
      "weighted avg       0.33      0.32      0.32      7178\n",
      "\n"
     ]
    }
   ],
   "source": [
    "print(\"Classification Report on Test Set:\")\n",
    "print(classification_report(y_test, y_test_pred))"
   ]
  },
  {
   "cell_type": "code",
   "execution_count": 16,
   "id": "a0f3a3e7-bbc5-4045-b476-1c05b35551e2",
   "metadata": {},
   "outputs": [
    {
     "name": "stdout",
     "output_type": "stream",
     "text": [
      "Classification Report on Training Set:\n",
      "              precision    recall  f1-score   support\n",
      "\n",
      "           0       1.00      1.00      1.00      3995\n",
      "           1       1.00      1.00      1.00       436\n",
      "           2       1.00      1.00      1.00      4097\n",
      "           3       1.00      1.00      1.00      7215\n",
      "           4       1.00      1.00      1.00      4965\n",
      "           5       1.00      1.00      1.00      4830\n",
      "           6       1.00      1.00      1.00      3171\n",
      "\n",
      "    accuracy                           1.00     28709\n",
      "   macro avg       1.00      1.00      1.00     28709\n",
      "weighted avg       1.00      1.00      1.00     28709\n",
      "\n"
     ]
    }
   ],
   "source": [
    "print(\"Classification Report on Training Set:\")\n",
    "print(classification_report(y_train, y_train_pred))"
   ]
  },
  {
   "cell_type": "code",
   "execution_count": null,
   "id": "5f96ff42-7cb6-450c-b08b-956893ae22fa",
   "metadata": {},
   "outputs": [],
   "source": []
  }
 ],
 "metadata": {
  "kernelspec": {
   "display_name": "Python 3 (ipykernel)",
   "language": "python",
   "name": "python3"
  },
  "language_info": {
   "codemirror_mode": {
    "name": "ipython",
    "version": 3
   },
   "file_extension": ".py",
   "mimetype": "text/x-python",
   "name": "python",
   "nbconvert_exporter": "python",
   "pygments_lexer": "ipython3",
   "version": "3.10.9"
  }
 },
 "nbformat": 4,
 "nbformat_minor": 5
}
