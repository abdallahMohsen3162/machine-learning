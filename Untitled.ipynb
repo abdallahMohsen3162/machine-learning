{
 "cells": [
  {
   "cell_type": "code",
   "execution_count": 219,
   "id": "d375cb01-13ec-4222-ba5a-712b00e8e3ae",
   "metadata": {},
   "outputs": [],
   "source": [
    "import cv2\n",
    "import numpy as np\n",
    "from ultralytics import YOLO\n",
    "import matplotlib.pyplot as plt\n",
    "import math\n",
    "\n"
   ]
  },
  {
   "cell_type": "code",
   "execution_count": 220,
   "id": "c26fa5c6-d409-4e8a-8a0b-f6f427c71836",
   "metadata": {},
   "outputs": [],
   "source": [
    "imgname = \"car.jpg\""
   ]
  },
  {
   "cell_type": "code",
   "execution_count": 221,
   "id": "544dba2b-3604-4fbd-8f8d-1a0be9883107",
   "metadata": {},
   "outputs": [
    {
     "name": "stdout",
     "output_type": "stream",
     "text": [
      "\n",
      "image 1/1 C:\\Users\\Abdullah\\pythonwork\\yolo\\car.jpg: 384x640 2 persons, 1 car, 66.6ms\n",
      "Speed: 2.0ms preprocess, 66.6ms inference, 1.0ms postprocess per image at shape (1, 3, 384, 640)\n",
      "tensor([[263.4761,  23.2528, 567.3895, 466.4730,   0.9232,   0.0000],\n",
      "        [ 26.8697,  54.7084, 260.8768, 145.7524,   0.9027,   2.0000],\n",
      "        [554.8484,  21.4419, 777.7745, 466.2312,   0.8982,   0.0000]])\n"
     ]
    }
   ],
   "source": [
    "model = YOLO(\"yolov8n.pt\")\n",
    "res = model(imgname, show=True)\n",
    "cv2.waitKey(0)\n",
    "\n",
    "# the boundries of all boxes\n",
    "print(res[0].boxes.data)\n"
   ]
  },
  {
   "cell_type": "code",
   "execution_count": 222,
   "id": "dbc47a2b-513d-4e8a-8079-2553e1a81899",
   "metadata": {},
   "outputs": [],
   "source": [
    "import cv2\n",
    "c = 0\n",
    "for i in res[0].boxes.data:\n",
    "    c += 1\n",
    "    original_image = cv2.imread(imgname)\n",
    "    x, y, w, h = math.floor(i[0]), math.floor(i[1]), math.floor(i[2]), math.floor(i[3])\n",
    "    cropped_image = original_image[y:h, x:w]\n",
    "    img_name = \"cur\" \n",
    "    cv2.imwrite(img_name + f\"{c}\" + \".jpg\", cropped_image)\n",
    "    cv2.imshow(img_name, cropped_image)\n",
    "    cv2.waitKey(0)\n",
    "    cv2.destroyAllWindows()\n"
   ]
  },
  {
   "cell_type": "code",
   "execution_count": 211,
   "id": "0c5c0b79-a654-4e51-883b-7d78b04ff8ae",
   "metadata": {},
   "outputs": [],
   "source": [
    "\n",
    "\n",
    "# Load the original image\n",
    "original_image = cv2.imread(imgname)\n",
    "\n",
    "# Define the region to crop (example coordinates)\n",
    "# x, y, w, h = 21, 108, 329, 558,   0,   0\n",
    "x, y, w, h = math.floor(res[0].boxes.xyxy[0][0]), math.floor(res[0].boxes.xyxy[0][1]), math.floor(res[0].boxes.xyxy[0][2]), math.floor(res[0].boxes.xyxy[0][3])\n",
    "\n",
    "\n",
    "# Perform the crop\n",
    "cropped_image = original_image[y:h, x:w]\n",
    "img_name = \"cur\" \n",
    "\n",
    "# Save or display the cropped image\n",
    "cv2.imwrite(img_name + \".jpg\", cropped_image)\n",
    "cv2.imshow(img_name, cropped_image)\n",
    "cv2.waitKey(0)\n",
    "cv2.destroyAllWindows()"
   ]
  },
  {
   "cell_type": "code",
   "execution_count": null,
   "id": "74ffb304-07ef-4c9f-8899-bf19be45ba39",
   "metadata": {},
   "outputs": [],
   "source": []
  },
  {
   "cell_type": "code",
   "execution_count": null,
   "id": "bb5ae820-50f6-419e-88a5-39fe733ffa40",
   "metadata": {},
   "outputs": [],
   "source": []
  }
 ],
 "metadata": {
  "kernelspec": {
   "display_name": "Python 3 (ipykernel)",
   "language": "python",
   "name": "python3"
  },
  "language_info": {
   "codemirror_mode": {
    "name": "ipython",
    "version": 3
   },
   "file_extension": ".py",
   "mimetype": "text/x-python",
   "name": "python",
   "nbconvert_exporter": "python",
   "pygments_lexer": "ipython3",
   "version": "3.11.4"
  }
 },
 "nbformat": 4,
 "nbformat_minor": 5
}
