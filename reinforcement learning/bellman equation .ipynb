{
 "cells": [
  {
   "cell_type": "code",
   "execution_count": 223,
   "metadata": {},
   "outputs": [
    {
     "name": "stdout",
     "output_type": "stream",
     "text": [
      "env:\n",
      "[[ 0.  0.  0.  1.]\n",
      " [ 0.  0.  0. -1.]\n",
      " [ 0.  0.  0.  0.]]\n"
     ]
    }
   ],
   "source": [
    "import numpy as np\n",
    "n = 3\n",
    "m = 4\n",
    "env = np.zeros((n, m))\n",
    "pol = np.empty((n, m), dtype='object')\n",
    "\n",
    "walls = {\n",
    "    (1,1)\n",
    "}\n",
    "rewards = {\n",
    "    (0, 3),\n",
    "    (1, 3),\n",
    "}\n",
    "\n",
    "env[0][3] = 1\n",
    "env[1][3] = -1\n",
    "nois = 0.2\n",
    "gamma = 0.9\n",
    "iter = 100\n",
    "print(\"env:\")\n",
    "print(env)"
   ]
  },
  {
   "attachments": {
    "8b66adfa-1c17-48c4-8872-36be91a50b14.png": {
     "image/png": "[encoded data removed]"
    }
   },
   "cell_type": "markdown",
   "metadata": {},
   "source": [
    "![download.png](attachment:8b66adfa-1c17-48c4-8872-36be91a50b14.png)"
   ]
  },
  {
   "cell_type": "code",
   "execution_count": 224,
   "metadata": {},
   "outputs": [],
   "source": [
    "dir = {\n",
    "    \"left\": (0, -1),\n",
    "    \"right\": (0, 1),\n",
    "    \"up\": (-1, 0),\n",
    "    \"down\": (1, 0)\n",
    "}"
   ]
  },
  {
   "cell_type": "code",
   "execution_count": 225,
   "metadata": {},
   "outputs": [],
   "source": [
    "def valid(x, y):\n",
    "    if x < 0 or y < 0 or x >= n or y >= m: return False\n",
    "    if (x, y) in walls: return False\n",
    "    return True\n",
    "\n"
   ]
  },
  {
   "cell_type": "code",
   "execution_count": 226,
   "metadata": {},
   "outputs": [],
   "source": [
    "def print_value():\n",
    "    for i in range(n):\n",
    "        s = \"|\"\n",
    "        for j in range(m):\n",
    "            s += str(env[i][j])[0:4]+ \" | \"\n",
    "        print(s)"
   ]
  },
  {
   "cell_type": "code",
   "execution_count": 227,
   "metadata": {},
   "outputs": [],
   "source": [
    "def print_policy():\n",
    "    for i in range(n):\n",
    "        s = \"|\"\n",
    "        for j in range(m):\n",
    "            s += str(pol[i][j]) + \"|  \"\n",
    "        print(s)"
   ]
  },
  {
   "cell_type": "markdown",
   "metadata": {},
   "source": [
    "<!-- The Bellman equation is a fundamental concept in dynamic programming and reinforcement learning. It was first formulated by Richard Bellman in the 1950s. The equation expresses a key principle of optimality in decision-making over time.\r\n",
    "\r\n",
    "In its simplest form, the Bellman equation describes the relationship between the value of being in a particular state and the value of taking a particular action from that state. It can be expre mathematically as follows:-->ssed "
   ]
  },
  {
   "attachments": {
    "c07755d7-26ed-4eed-89c5-8ec83595980a.jpg": {
     "image/jpeg": "[encoded data removed]"
    }
   },
   "cell_type": "markdown",
   "metadata": {},
   "source": [
    "![download.jpg](attachment:c07755d7-26ed-4eed-89c5-8ec83595980a.jpg)\n"
   ]
  },
  {
   "cell_type": "code",
   "execution_count": 231,
   "metadata": {},
   "outputs": [],
   "source": [
    "#V(s) is the value of being in state \n",
    "#R(s,a) is the immediate reward received after taking action a in state\n",
    "#γ is the discount factor, representing the importance of future rewards compared to immediate rewards,\n",
    "# p is the probability of transitioning to state  from state s after taking action\n",
    "#max represents taking the action that maximizes the expression inside the brackets"
   ]
  },
  {
   "cell_type": "code",
   "execution_count": 228,
   "metadata": {},
   "outputs": [],
   "source": [
    "\n",
    "def get_state_of_certain_move(x, y, d):\n",
    "    divide_noise = 0\n",
    "    for i in dir:\n",
    "        newx = x + dir[i][0]\n",
    "        newy = y + dir[i][1]\n",
    "        if not valid(newx, newy) : continue\n",
    "        divide_noise += 1\n",
    "    sum = 0  \n",
    "    \n",
    "    for i in dir:\n",
    "        newx = x + dir[i][0]\n",
    "        newy = y + dir[i][1]\n",
    "        if not valid(newx, newy) : continue\n",
    "        if i == d: sum += (1 - noise) * gamma * env[newx][newy]\n",
    "        else: sum += (noise / (divide_noise - 1)) * gamma * env[newx][newy]\n",
    "\n",
    "    return sum\n",
    "\n",
    "def get_state_value(x, y):\n",
    "    qState = {}\n",
    "    for d in dir:\n",
    "        qState[d] = get_state_of_certain_move(x, y, d)\n",
    "    return qState\n",
    "        \n",
    "        "
   ]
  },
  {
   "cell_type": "code",
   "execution_count": 229,
   "metadata": {},
   "outputs": [
    {
     "name": "stdout",
     "output_type": "stream",
     "text": [
      "|0.0 | 0.0 | 0.0 | 1.0 | \n",
      "|0.0 | 0.0 | 0.0 | -1.0 | \n",
      "|0.0 | 0.0 | 0.0 | 0.0 | \n",
      "\n",
      "--------------------------------\n",
      "\n",
      "|0.0 | 0.0 | 0.72 | 1.0 | \n",
      "|0.0 | 0.0 | 0.42 | -1.0 | \n",
      "|0.0 | 0.0 | 0.30 | 0.04 | \n",
      "\n",
      "--------------------------------\n",
      "\n",
      "|0.0 | 0.51 | 0.80 | 1.0 | \n",
      "|0.0 | 0.0 | 0.51 | -1.0 | \n",
      "|0.0 | 0.22 | 0.39 | 0.10 | \n",
      "\n",
      "--------------------------------\n",
      "\n",
      "|0.37 | 0.64 | 0.82 | 1.0 | \n",
      "|0.26 | 0.0 | 0.53 | -1.0 | \n",
      "|0.23 | 0.32 | 0.42 | 0.12 | \n",
      "\n",
      "--------------------------------\n",
      "\n",
      "|0.51 | 0.68 | 0.83 | 1.0 | \n",
      "|0.41 | 0.0 | 0.54 | -1.0 | \n",
      "|0.35 | 0.37 | 0.43 | 0.13 | \n",
      "\n",
      "--------------------------------\n",
      "\n",
      "|right|  right|  right|  None|  \n",
      "|up|  None|  up|  None|  \n",
      "|up|  right|  up|  left|  \n"
     ]
    }
   ],
   "source": [
    "for _ in range(5):\n",
    "    print_value()\n",
    "    print(\"\\n--------------------------------\\n\")\n",
    "    for i in range(n):\n",
    "        for j in range(m):\n",
    "            if (i, j) in walls or (i, j) in rewards: continue\n",
    "            qst = get_state_value(i, j)\n",
    "            max_value = max(qst.values())\n",
    "            env[i][j] = max_value\n",
    "            pol[i][j] = max(qst, key=qst.get)\n",
    "print_policy()"
   ]
  },
  {
   "cell_type": "code",
   "execution_count": null,
   "metadata": {},
   "outputs": [],
   "source": []
  },
  {
   "cell_type": "code",
   "execution_count": null,
   "metadata": {},
   "outputs": [],
   "source": []
  },
  {
   "cell_type": "code",
   "execution_count": null,
   "metadata": {},
   "outputs": [],
   "source": []
  }
 ],
 "metadata": {
  "kernelspec": {
   "display_name": "Python 3 (ipykernel)",
   "language": "python",
   "name": "python3"
  },
  "language_info": {
   "codemirror_mode": {
    "name": "ipython",
    "version": 3
   },
   "file_extension": ".py",
   "mimetype": "text/x-python",
   "name": "python",
   "nbconvert_exporter": "python",
   "pygments_lexer": "ipython3",
   "version": "3.11.4"
  }
 },
 "nbformat": 4,
 "nbformat_minor": 4
}
