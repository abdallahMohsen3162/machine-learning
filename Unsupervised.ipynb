{
  "cells": [
    {
      "cell_type": "code",
      "execution_count": 62,
      "metadata": {
        "id": "8hWOtxZwk9v2"
      },
      "outputs": [],
      "source": [
        "import numpy as np\n",
        "import pandas as pd\n",
        "import matplotlib.pyplot as plt"
      ]
    },
    {
      "cell_type": "code",
      "source": [
        "dp =np.array([\n",
        "    [0, 0],\n",
        "    [1, 0],\n",
        "    [1, 1],\n",
        "    [2, 2],\n",
        "    [3, 1],\n",
        "    [3, 0],\n",
        "    [0, 1],\n",
        "    [3, 2],\n",
        "    [6, 3],\n",
        "])\n"
      ],
      "metadata": {
        "id": "Fji0J_WvqMvR"
      },
      "execution_count": 63,
      "outputs": []
    },
    {
      "cell_type": "code",
      "source": [
        "def calc_distance(data):\n",
        "  sz = data.shape[0]\n",
        "  params = data.shape[1]\n",
        "  distances = np.zeros((sz, sz))\n",
        "  for i in range(sz):\n",
        "    for j in range(sz):\n",
        "      sum = 0\n",
        "      for k in range(params):\n",
        "        sum += (data[i][k] - data[j][k]) ** 2\n",
        "      distances[i][j] = np.sqrt(sum)\n",
        "\n",
        "  return distances\n",
        "print(calc_distance(dp))"
      ],
      "metadata": {
        "colab": {
          "base_uri": "https://localhost:8080/"
        },
        "id": "7UzZmMjBvX15",
        "outputId": "cbf2bb14-bbf3-4c35-fcdc-3de4bac1db8d"
      },
      "execution_count": 64,
      "outputs": [
        {
          "output_type": "stream",
          "name": "stdout",
          "text": [
            "[[0.         1.         1.41421356 2.82842712 3.16227766 3.\n",
            "  1.         3.60555128 6.70820393]\n",
            " [1.         0.         1.         2.23606798 2.23606798 2.\n",
            "  1.41421356 2.82842712 5.83095189]\n",
            " [1.41421356 1.         0.         1.41421356 2.         2.23606798\n",
            "  1.         2.23606798 5.38516481]\n",
            " [2.82842712 2.23606798 1.41421356 0.         1.41421356 2.23606798\n",
            "  2.23606798 1.         4.12310563]\n",
            " [3.16227766 2.23606798 2.         1.41421356 0.         1.\n",
            "  3.         1.         3.60555128]\n",
            " [3.         2.         2.23606798 2.23606798 1.         0.\n",
            "  3.16227766 2.         4.24264069]\n",
            " [1.         1.41421356 1.         2.23606798 3.         3.16227766\n",
            "  0.         3.16227766 6.32455532]\n",
            " [3.60555128 2.82842712 2.23606798 1.         1.         2.\n",
            "  3.16227766 0.         3.16227766]\n",
            " [6.70820393 5.83095189 5.38516481 4.12310563 3.60555128 4.24264069\n",
            "  6.32455532 3.16227766 0.        ]]\n"
          ]
        }
      ]
    }
  ],
  "metadata": {
    "colab": {
      "provenance": []
    },
    "kernelspec": {
      "display_name": "Python 3",
      "name": "python3"
    },
    "language_info": {
      "name": "python"
    }
  },
  "nbformat": 4,
  "nbformat_minor": 0
}